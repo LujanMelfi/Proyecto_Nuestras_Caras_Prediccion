{
 "cells": [
  {
   "cell_type": "code",
   "execution_count": 1,
   "metadata": {},
   "outputs": [],
   "source": [
    "import cv2 \n",
    "import os\n",
    "import numpy as np\n",
    "import torch\n",
    "from facenet_pytorch import MTCNN\n",
    "import time\n"
   ]
  },
  {
   "cell_type": "code",
   "execution_count": 2,
   "metadata": {},
   "outputs": [
    {
     "name": "stdout",
     "output_type": "stream",
     "text": [
      "Running on device: cpu\n"
     ]
    }
   ],
   "source": [
    "# Detectar si se dispone de GPU cuda\n",
    "# ==============================================================================\n",
    "device = torch.device('cuda:0' if torch.cuda.is_available() else 'cpu')\n",
    "print('Running on device: {}'.format(device))\n",
    "\n",
    "# Detector MTCNN\n",
    "# ==============================================================================\n",
    "mtcnn = MTCNN(\n",
    "            select_largest = True,\n",
    "            min_face_size  = 20,\n",
    "            thresholds     = [0.6, 0.7, 0.7],\n",
    "            post_process   = False,\n",
    "            image_size     = 160,\n",
    "            device         = device\n",
    "        )"
   ]
  },
  {
   "cell_type": "code",
   "execution_count": 6,
   "metadata": {},
   "outputs": [
    {
     "name": "stdout",
     "output_type": "stream",
     "text": [
      "El tiempo de ejecución fue de 21.77299213409424 segundos.\n",
      "['ad', 'cp', 'ec', 'ep', 'fh', 'gf', 'hg', 'ja', 'jm', 'jp', 'jt', 'lm', 'mf', 'mg', 'mk', 'ml', 'mt', 'nl', 'ob', 'rb', 're', 'sp', 'ss']\n"
     ]
    }
   ],
   "source": [
    "# Crear data set\n",
    "ruta = 'Datos/imagenes_test/'\n",
    "mis_imagenes = []\n",
    "nombres = []\n",
    "nombre_alumno = []\n",
    "lista_fotos = os.listdir(ruta)\n",
    "\n",
    "# Inicio de medición de tiempo\n",
    "start_time = time.time()\n",
    "\n",
    "for nombre in lista_fotos:\n",
    "    imagen_actual = cv2.imread(f'{ruta}\\{nombre}')\n",
    "    \n",
    "    # Buscar el rostro en la imagen\n",
    "    boxes, landmarks = mtcnn.detect(imagen_actual, landmarks=False)\n",
    "    \n",
    "    x1, y1, x2, y2 = boxes[0].astype(int)\n",
    "    recorte_cara = np.array(imagen_actual)[y1:y2, x1:x2]\n",
    "    \n",
    "    # Convertir a escala de grises   \n",
    "    imagen_procesada = cv2.cvtColor(recorte_cara, cv2.COLOR_BGR2GRAY)\n",
    "    imagen_procesada = cv2.resize(imagen_procesada, (50,50))\n",
    "    \n",
    "    # Guardar el rostro en un vector\n",
    "    mis_imagenes.append(imagen_procesada)\n",
    "    \n",
    "    # Guardar nombre de archivo\n",
    "    nombres.append(os.path.splitext(nombre)[0][:2])\n",
    "\n",
    "# Fin de medición de tiempo\n",
    "end_time = time.time()\n",
    "\n",
    "# Guardar archivo de imagenes de los rostros procesados\n",
    "mis_imagenes = np.array(mis_imagenes, dtype=np.uint8)\n",
    "np.save('face_procesadas_test.npy', mis_imagenes)\n",
    "np.save('nombres_test.npy', nombres)\n",
    "\n",
    "# Cálculo del tiempo transcurrido\n",
    "elapsed_time = end_time - start_time\n",
    "print(f\"El tiempo de ejecución fue de {elapsed_time} segundos.\")\n",
    "\n",
    "# Mostrar los nombres de archivos\n",
    "print(nombres)"
   ]
  }
 ],
 "metadata": {
  "kernelspec": {
   "display_name": "Python 3",
   "language": "python",
   "name": "python3"
  },
  "language_info": {
   "codemirror_mode": {
    "name": "ipython",
    "version": 3
   },
   "file_extension": ".py",
   "mimetype": "text/x-python",
   "name": "python",
   "nbconvert_exporter": "python",
   "pygments_lexer": "ipython3",
   "version": "3.10.8"
  },
  "orig_nbformat": 4
 },
 "nbformat": 4,
 "nbformat_minor": 2
}
